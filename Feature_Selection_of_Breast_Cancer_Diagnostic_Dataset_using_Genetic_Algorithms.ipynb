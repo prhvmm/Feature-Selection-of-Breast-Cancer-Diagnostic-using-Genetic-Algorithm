{
  "nbformat": 4,
  "nbformat_minor": 0,
  "metadata": {
    "colab": {
      "provenance": [],
      "authorship_tag": "ABX9TyOqqwV2yNuknkOW4RS0vRSZ",
      "include_colab_link": true
    },
    "kernelspec": {
      "name": "python3",
      "display_name": "Python 3"
    },
    "language_info": {
      "name": "python"
    }
  },
  "cells": [
    {
      "cell_type": "markdown",
      "metadata": {
        "id": "view-in-github",
        "colab_type": "text"
      },
      "source": [
        "<a href=\"https://colab.research.google.com/github/prhvmm/Feature-Selection-of-Breast-Cancer-Diagnostic-using-Genetic-Algorithm/blob/main/Feature_Selection_of_Breast_Cancer_Diagnostic_Dataset_using_Genetic_Algorithms.ipynb\" target=\"_parent\"><img src=\"https://colab.research.google.com/assets/colab-badge.svg\" alt=\"Open In Colab\"/></a>"
      ]
    },
    {
      "cell_type": "markdown",
      "source": [
        "# Libraries"
      ],
      "metadata": {
        "id": "Utos6MsHln4C"
      }
    },
    {
      "cell_type": "code",
      "source": [
        "import numpy as np\n",
        "import pandas as pd\n",
        "import seaborn as sns\n",
        "from random import randint\n",
        "from sklearn import svm\n",
        "from sklearn.ensemble import RandomForestClassifier\n",
        "from sklearn.neighbors import KNeighborsClassifier\n",
        "from sklearn.ensemble import GradientBoostingClassifier\n",
        "from xgboost import XGBClassifier\n",
        "from sklearn import metrics\n",
        "from sklearn.model_selection import train_test_split\n",
        "from sklearn.metrics import confusion_matrix"
      ],
      "metadata": {
        "id": "6Rt5manJlmQa"
      },
      "execution_count": 2,
      "outputs": []
    },
    {
      "cell_type": "markdown",
      "source": [
        "# Variables and Data\n"
      ],
      "metadata": {
        "id": "OF5LRZC-l6hm"
      }
    },
    {
      "cell_type": "code",
      "source": [
        "data_bc = pd.read_csv(r'data.csv') #change the path to your directory\n",
        "label_bc = data_bc[\"diagnosis\"]\n",
        "label_bc = np.where(label_bc == 'M', 1, 0) #changing the classes from M and B to 1 and 0\n",
        "data_bc.drop([\"id\", \"diagnosis\", \"Unnamed: 32\"], axis = 1, inplace = True)\n",
        "\n",
        "final_score = []\n",
        "          \n",
        "#logmodel = svm.SVC(kernel='linear')\n",
        "#logmodel = svm.SVC(kernel='rbf')         \n",
        "#logmodel = RandomForestClassifier(n_estimators=200, random_state=0)\n",
        "#logmodel = KNeighborsClassifier()\n",
        "logmodel = XGBClassifier(objective='reg:logistic', use_label_encoder=False)"
      ],
      "metadata": {
        "colab": {
          "base_uri": "https://localhost:8080/"
        },
        "id": "VPPUs2KGl5xw",
        "outputId": "5f3761b9-10e6-4be2-faae-b251dfacb1f6"
      },
      "execution_count": 3,
      "outputs": [
        {
          "output_type": "stream",
          "name": "stderr",
          "text": [
            "/usr/local/lib/python3.9/dist-packages/xgboost/sklearn.py:1395: UserWarning: `use_label_encoder` is deprecated in 1.7.0.\n",
            "  warnings.warn(\"`use_label_encoder` is deprecated in 1.7.0.\")\n"
          ]
        }
      ]
    },
    {
      "cell_type": "markdown",
      "source": [
        "# Functions"
      ],
      "metadata": {
        "id": "fshdQHN-nQFE"
      }
    },
    {
      "cell_type": "code",
      "source": [
        "def split(df, label):\n",
        "    X_tr, X_te, Y_tr, Y_te = train_test_split(df, label, test_size=0.3)\n",
        "    return X_tr, X_te, Y_tr, Y_te\n",
        "\n",
        "\n",
        "\n",
        "def initialization_of_population(size, n_feat, select_feature):\n",
        "    population = []\n",
        "    for i in range(size):\n",
        "        chromosome = np.zeros(n_feat, dtype=np.bool_)     \n",
        "        for j in range(select_feature):\n",
        "            flag = True\n",
        "            while flag:\n",
        "                random_index = randint(0, n_feat-1)\n",
        "                if(chromosome[random_index]==False):\n",
        "                    chromosome[random_index]=True\n",
        "                    flag = False\n",
        "        population.append(chromosome)\n",
        "    return population\n",
        "\n",
        "def fitness_score(population):\n",
        "    scores = []\n",
        "    predictions = []\n",
        "    n_rows = X_train.shape[0]\n",
        "\n",
        "    select_rows = np.ones(n_rows, dtype=np.bool_)\n",
        "    for j in range(n_rows):\n",
        "        random_number = randint(1, 100)\n",
        "        if(random_number > 80):\n",
        "            select_rows[j] = False\n",
        "\n",
        "    for chromosome in population:\n",
        "        logmodel.fit(X_train.iloc[select_rows,chromosome], Y_train[select_rows])        \n",
        "        prediction = logmodel.predict(X_test.iloc[:, chromosome])\n",
        "        predictions.append(prediction)\n",
        "        scores.append(metrics.f1_score(Y_test, prediction))\n",
        "        \n",
        "    scores, population, predictions = np.array(scores), np.array(population), np.array(predictions)\n",
        "    \n",
        "    inds = np.argsort(scores)\n",
        "                                      \n",
        "    return list(scores[inds][::-1]), list(population[inds,:][::-1]), list(predictions[inds][::-1]) \n",
        "\n",
        "def selection(pop_after_fit, n_parents):\n",
        "    population_nextgen = []\n",
        "    for i in range(n_parents):\n",
        "        population_nextgen.append(pop_after_fit[i])\n",
        "    return population_nextgen\n",
        "\n",
        "def crossover(pop_after_sel):\n",
        "    pop_nextgen = pop_after_sel\n",
        "    for i in range(0, len(pop_after_sel),2):\n",
        "        new_par = []\n",
        "        child_1 , child_2 = pop_nextgen[i] , pop_nextgen[i+1]\n",
        "        new_par = np.concatenate((child_1[:len(child_1)//2],child_2[len(child_1)//2:]))\n",
        "        pop_nextgen.append(new_par)\n",
        "    return pop_nextgen\n",
        "\n",
        "def mutation(pop_after_cross, mutation_rate, n_feat):   \n",
        "    mutation_range = int(mutation_rate * n_feat)\n",
        "    pop_next_gen = []\n",
        "    for n in range(0, len(pop_after_cross)):\n",
        "        chromo = pop_after_cross[n]\n",
        "        rand_posi = [] \n",
        "        for i in range(0, mutation_range):\n",
        "            pos = randint(0, n_feat-1)\n",
        "            rand_posi.append(pos)\n",
        "        for j in rand_posi:\n",
        "            chromo[j] = not chromo[j]  \n",
        "        pop_next_gen.append(chromo)\n",
        "    return pop_next_gen\n",
        "\n",
        "def generations(size, n_feat, n_parents, mutation_rate, select_feature):\n",
        "    \n",
        "    best_score= [-100]\n",
        "    population_nextgen = initialization_of_population(size, n_feat,select_feature)\n",
        "    i=1\n",
        "    while True:\n",
        "        scores, pop_after_fit,pred = fitness_score(population_nextgen)\n",
        "        \n",
        "        best_score.append(scores[0])\n",
        "        if(best_score[i]<=best_score[i-1]):\n",
        "            final_score.append(best_score[i])\n",
        "            break\n",
        "        pop_after_sel = selection(pop_after_fit,n_parents)\n",
        "        pop_after_cross = crossover(pop_after_sel)\n",
        "        population_nextgen = mutation(pop_after_cross, mutation_rate, n_feat)\n",
        "        i = i+1\n",
        "    return pred[0]\n",
        "   \n",
        "def cf_matrix_plot(cf_matrix, select_feature):\n",
        "    group_names = ['True Neg', 'False Pos', 'False Neg', 'True Pos']\n",
        "    group_counts = [\"{0:0.0f}\".format(value) for value in cf_matrix.flatten()]\n",
        "    group_percentages = [\"{0:.2%}\".format(value) for value in cf_matrix.flatten()/np.sum(cf_matrix)]\n",
        "    labels = [f\"{v1}\\n{v2}\\n{v3}\" for v1, v2, v3 in zip(group_names,group_counts,group_percentages)]\n",
        "    labels = np.asarray(labels).reshape(2,2)\n",
        "    svm = sns.heatmap(cf_matrix, annot=labels, fmt='', cmap='Blues')\n",
        "    svm.set_title('Number of Features: %i - Classifier: XGB' %select_feature)    \n",
        "    figure = svm.get_figure()\n",
        "    figure.savefig('With_%i_features.png' %select_feature, dpi=400)\n",
        "    figure.clf()"
      ],
      "metadata": {
        "id": "GXsLgCZFnO5D"
      },
      "execution_count": 5,
      "outputs": []
    },
    {
      "cell_type": "markdown",
      "source": [
        "#Test for All Features\n",
        "select_feature parameter indicates the number of features we would like to keep.\n",
        "The for loop runs 30 times which is the number of all features, and an F1 score for every selection will be printed."
      ],
      "metadata": {
        "id": "pBiNWfGYnpqG"
      }
    },
    {
      "cell_type": "code",
      "execution_count": null,
      "metadata": {
        "id": "yW7zhnhFkzSi"
      },
      "outputs": [],
      "source": [
        "\n",
        "\n",
        "X_train,X_test, Y_train, Y_test = split(data_bc,label_bc)\n",
        "\n",
        "results = {}\n",
        "select_feature = 10\n",
        "n_feat = data_bc.shape[1]\n",
        "\n",
        "\n",
        "for i in range(n_feat):\n",
        "    pred = generations(size=80,n_feat=n_feat,n_parents=64,mutation_rate=0.2,select_feature=select_feature)\n",
        "    results[select_feature] = final_score[select_feature-1]\n",
        "    cf_matrix = confusion_matrix(Y_test,pred)\n",
        "    cf_matrix_plot(cf_matrix,select_feature)\n",
        "    select_feature+=1\n",
        "    \n",
        "\n",
        "for i in results:\n",
        "    print('with %i features score is %f' %(i,results[i]))\n",
        "    \n"
      ]
    },
    {
      "cell_type": "markdown",
      "source": [
        "#Constant Number of Features\n"
      ],
      "metadata": {
        "id": "s40hMr9rs1tG"
      }
    },
    {
      "cell_type": "code",
      "source": [
        "X_train,X_test, Y_train, Y_test = split(data_bc, label_bc)\n",
        "\n",
        "results = {}\n",
        "select_feature = 10\n",
        "n_feat = data_bc.shape[1]\n",
        "\n",
        "\n",
        "\n",
        "pred = generations(size=80, n_feat=n_feat, n_parents=64, mutation_rate=0.2, select_feature=select_feature)\n",
        "\n",
        "cf_matrix = confusion_matrix(Y_test,pred)\n",
        "cf_matrix_plot(cf_matrix, select_feature)\n",
        "\n",
        "    \n",
        "print(final_score[-1])"
      ],
      "metadata": {
        "id": "IsCHKr7PswhA"
      },
      "execution_count": null,
      "outputs": []
    }
  ]
}